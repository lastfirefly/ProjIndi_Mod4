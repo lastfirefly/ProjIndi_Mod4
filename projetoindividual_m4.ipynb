{
  "nbformat": 4,
  "nbformat_minor": 0,
  "metadata": {
    "colab": {
      "provenance": [],
      "authorship_tag": "ABX9TyOKHoxDmr6ILlZUYrK4MQEh",
      "include_colab_link": true
    },
    "kernelspec": {
      "name": "python3",
      "display_name": "Python 3"
    },
    "language_info": {
      "name": "python"
    }
  },
  "cells": [
    {
      "cell_type": "markdown",
      "metadata": {
        "id": "view-in-github",
        "colab_type": "text"
      },
      "source": [
        "<a href=\"https://colab.research.google.com/github/lastfirefly/ProjetoIndiv_Mod4/blob/backstage/projetoindividual_m4.ipynb\" target=\"_parent\"><img src=\"https://colab.research.google.com/assets/colab-badge.svg\" alt=\"Open In Colab\"/></a>"
      ]
    },
    {
      "cell_type": "markdown",
      "source": [
        "# Relatório de Progresso Diário\n"
      ],
      "metadata": {
        "id": "q51rsxmT5Yyj"
      }
    },
    {
      "cell_type": "markdown",
      "source": [
        "## Código"
      ],
      "metadata": {
        "id": "aVQEHSHd3bwI"
      }
    },
    {
      "cell_type": "markdown",
      "source": [
        "### Importar e ler csv"
      ],
      "metadata": {
        "id": "pLEERwpn7Rd8"
      }
    },
    {
      "cell_type": "code",
      "source": [
        "# Carregar arquivo usando files.upload()\n",
        "uploaded = files.upload()\n",
        "# Obter o nome do arquivo carregado\n",
        "nome_arquivo = next(iter(uploaded))"
      ],
      "metadata": {
        "id": "HidxFf1V7PcL",
        "colab": {
          "base_uri": "https://localhost:8080/",
          "height": 73
        },
        "outputId": "944de054-5bd5-4549-e346-aa4a61336b7e"
      },
      "execution_count": 99,
      "outputs": [
        {
          "output_type": "display_data",
          "data": {
            "text/plain": [
              "<IPython.core.display.HTML object>"
            ],
            "text/html": [
              "\n",
              "     <input type=\"file\" id=\"files-f529ac25-4462-4b17-a855-16a28f42948b\" name=\"files[]\" multiple disabled\n",
              "        style=\"border:none\" />\n",
              "     <output id=\"result-f529ac25-4462-4b17-a855-16a28f42948b\">\n",
              "      Upload widget is only available when the cell has been executed in the\n",
              "      current browser session. Please rerun this cell to enable.\n",
              "      </output>\n",
              "      <script>// Copyright 2017 Google LLC\n",
              "//\n",
              "// Licensed under the Apache License, Version 2.0 (the \"License\");\n",
              "// you may not use this file except in compliance with the License.\n",
              "// You may obtain a copy of the License at\n",
              "//\n",
              "//      http://www.apache.org/licenses/LICENSE-2.0\n",
              "//\n",
              "// Unless required by applicable law or agreed to in writing, software\n",
              "// distributed under the License is distributed on an \"AS IS\" BASIS,\n",
              "// WITHOUT WARRANTIES OR CONDITIONS OF ANY KIND, either express or implied.\n",
              "// See the License for the specific language governing permissions and\n",
              "// limitations under the License.\n",
              "\n",
              "/**\n",
              " * @fileoverview Helpers for google.colab Python module.\n",
              " */\n",
              "(function(scope) {\n",
              "function span(text, styleAttributes = {}) {\n",
              "  const element = document.createElement('span');\n",
              "  element.textContent = text;\n",
              "  for (const key of Object.keys(styleAttributes)) {\n",
              "    element.style[key] = styleAttributes[key];\n",
              "  }\n",
              "  return element;\n",
              "}\n",
              "\n",
              "// Max number of bytes which will be uploaded at a time.\n",
              "const MAX_PAYLOAD_SIZE = 100 * 1024;\n",
              "\n",
              "function _uploadFiles(inputId, outputId) {\n",
              "  const steps = uploadFilesStep(inputId, outputId);\n",
              "  const outputElement = document.getElementById(outputId);\n",
              "  // Cache steps on the outputElement to make it available for the next call\n",
              "  // to uploadFilesContinue from Python.\n",
              "  outputElement.steps = steps;\n",
              "\n",
              "  return _uploadFilesContinue(outputId);\n",
              "}\n",
              "\n",
              "// This is roughly an async generator (not supported in the browser yet),\n",
              "// where there are multiple asynchronous steps and the Python side is going\n",
              "// to poll for completion of each step.\n",
              "// This uses a Promise to block the python side on completion of each step,\n",
              "// then passes the result of the previous step as the input to the next step.\n",
              "function _uploadFilesContinue(outputId) {\n",
              "  const outputElement = document.getElementById(outputId);\n",
              "  const steps = outputElement.steps;\n",
              "\n",
              "  const next = steps.next(outputElement.lastPromiseValue);\n",
              "  return Promise.resolve(next.value.promise).then((value) => {\n",
              "    // Cache the last promise value to make it available to the next\n",
              "    // step of the generator.\n",
              "    outputElement.lastPromiseValue = value;\n",
              "    return next.value.response;\n",
              "  });\n",
              "}\n",
              "\n",
              "/**\n",
              " * Generator function which is called between each async step of the upload\n",
              " * process.\n",
              " * @param {string} inputId Element ID of the input file picker element.\n",
              " * @param {string} outputId Element ID of the output display.\n",
              " * @return {!Iterable<!Object>} Iterable of next steps.\n",
              " */\n",
              "function* uploadFilesStep(inputId, outputId) {\n",
              "  const inputElement = document.getElementById(inputId);\n",
              "  inputElement.disabled = false;\n",
              "\n",
              "  const outputElement = document.getElementById(outputId);\n",
              "  outputElement.innerHTML = '';\n",
              "\n",
              "  const pickedPromise = new Promise((resolve) => {\n",
              "    inputElement.addEventListener('change', (e) => {\n",
              "      resolve(e.target.files);\n",
              "    });\n",
              "  });\n",
              "\n",
              "  const cancel = document.createElement('button');\n",
              "  inputElement.parentElement.appendChild(cancel);\n",
              "  cancel.textContent = 'Cancel upload';\n",
              "  const cancelPromise = new Promise((resolve) => {\n",
              "    cancel.onclick = () => {\n",
              "      resolve(null);\n",
              "    };\n",
              "  });\n",
              "\n",
              "  // Wait for the user to pick the files.\n",
              "  const files = yield {\n",
              "    promise: Promise.race([pickedPromise, cancelPromise]),\n",
              "    response: {\n",
              "      action: 'starting',\n",
              "    }\n",
              "  };\n",
              "\n",
              "  cancel.remove();\n",
              "\n",
              "  // Disable the input element since further picks are not allowed.\n",
              "  inputElement.disabled = true;\n",
              "\n",
              "  if (!files) {\n",
              "    return {\n",
              "      response: {\n",
              "        action: 'complete',\n",
              "      }\n",
              "    };\n",
              "  }\n",
              "\n",
              "  for (const file of files) {\n",
              "    const li = document.createElement('li');\n",
              "    li.append(span(file.name, {fontWeight: 'bold'}));\n",
              "    li.append(span(\n",
              "        `(${file.type || 'n/a'}) - ${file.size} bytes, ` +\n",
              "        `last modified: ${\n",
              "            file.lastModifiedDate ? file.lastModifiedDate.toLocaleDateString() :\n",
              "                                    'n/a'} - `));\n",
              "    const percent = span('0% done');\n",
              "    li.appendChild(percent);\n",
              "\n",
              "    outputElement.appendChild(li);\n",
              "\n",
              "    const fileDataPromise = new Promise((resolve) => {\n",
              "      const reader = new FileReader();\n",
              "      reader.onload = (e) => {\n",
              "        resolve(e.target.result);\n",
              "      };\n",
              "      reader.readAsArrayBuffer(file);\n",
              "    });\n",
              "    // Wait for the data to be ready.\n",
              "    let fileData = yield {\n",
              "      promise: fileDataPromise,\n",
              "      response: {\n",
              "        action: 'continue',\n",
              "      }\n",
              "    };\n",
              "\n",
              "    // Use a chunked sending to avoid message size limits. See b/62115660.\n",
              "    let position = 0;\n",
              "    do {\n",
              "      const length = Math.min(fileData.byteLength - position, MAX_PAYLOAD_SIZE);\n",
              "      const chunk = new Uint8Array(fileData, position, length);\n",
              "      position += length;\n",
              "\n",
              "      const base64 = btoa(String.fromCharCode.apply(null, chunk));\n",
              "      yield {\n",
              "        response: {\n",
              "          action: 'append',\n",
              "          file: file.name,\n",
              "          data: base64,\n",
              "        },\n",
              "      };\n",
              "\n",
              "      let percentDone = fileData.byteLength === 0 ?\n",
              "          100 :\n",
              "          Math.round((position / fileData.byteLength) * 100);\n",
              "      percent.textContent = `${percentDone}% done`;\n",
              "\n",
              "    } while (position < fileData.byteLength);\n",
              "  }\n",
              "\n",
              "  // All done.\n",
              "  yield {\n",
              "    response: {\n",
              "      action: 'complete',\n",
              "    }\n",
              "  };\n",
              "}\n",
              "\n",
              "scope.google = scope.google || {};\n",
              "scope.google.colab = scope.google.colab || {};\n",
              "scope.google.colab._files = {\n",
              "  _uploadFiles,\n",
              "  _uploadFilesContinue,\n",
              "};\n",
              "})(self);\n",
              "</script> "
            ]
          },
          "metadata": {}
        },
        {
          "output_type": "stream",
          "name": "stdout",
          "text": [
            "Saving relatorio_diario.xlsx to relatorio_diario (3).xlsx\n"
          ]
        }
      ]
    },
    {
      "cell_type": "markdown",
      "source": [
        "### Importar bibliotecas"
      ],
      "metadata": {
        "id": "OUi9ak4X7JtE"
      }
    },
    {
      "cell_type": "code",
      "source": [
        "from google.colab import files\n",
        "import pandas as pd\n",
        "from pandas import DataFrame as df\n",
        "import numpy as np\n",
        "import matplotlib.pyplot as plt\n"
      ],
      "metadata": {
        "id": "o-HroBjDOyst"
      },
      "execution_count": 100,
      "outputs": []
    },
    {
      "cell_type": "markdown",
      "source": [
        "### Definir as colunas e linhas a serem trabalhadas"
      ],
      "metadata": {
        "id": "IALJiiN_7V50"
      }
    },
    {
      "cell_type": "code",
      "source": [
        "df = pd.read_excel(nome_arquivo)\n",
        "\n",
        "dias = df[\"Dias\"]\n",
        "horas = df['Horas Trabalhadas']\n",
        "bugs = df['Bugs Corrigidos']\n",
        "compl_tasks = df['Tarefas Concluidas']"
      ],
      "metadata": {
        "id": "OOkaz5Tj7F4M"
      },
      "execution_count": 101,
      "outputs": []
    },
    {
      "cell_type": "markdown",
      "source": [
        "## Atividades Realizadas:\n"
      ],
      "metadata": {
        "id": "qeOdIlEt2LZt"
      }
    },
    {
      "cell_type": "markdown",
      "source": [
        "### 1. **Horas Trabalhadas:**\n",
        "  \n",
        "*  Total de horas trabalhadas;\n",
        "  \n",
        "*  Média diária de horas trabalhadas.\n"
      ],
      "metadata": {
        "id": "7g_xunBc24Yf"
      }
    },
    {
      "cell_type": "code",
      "source": [
        "horas_total = int(horas.sum())\n",
        "horas_media = horas.mean()\n",
        "\n",
        "print(\"Horas Trabalhadas (HT)\")\n",
        "print(\"Total de HT: \", horas_total)\n",
        "print(\"Média de HT: \", horas_media)"
      ],
      "metadata": {
        "colab": {
          "base_uri": "https://localhost:8080/"
        },
        "id": "uf3R4lFLq7HW",
        "outputId": "415d4d22-8538-4da8-cbfa-38ffe2e07404"
      },
      "execution_count": 102,
      "outputs": [
        {
          "output_type": "stream",
          "name": "stdout",
          "text": [
            "Horas Trabalhadas (HT)\n",
            "Total de HT:  43\n",
            "Média de HT:  6.142857142857143\n"
          ]
        }
      ]
    },
    {
      "cell_type": "markdown",
      "source": [
        "### 2. **Bugs Corrigidos:**\n",
        "\n",
        "*  Total e média diária de bugs corrigidos;\n",
        "*  Visualização.\n",
        "\n"
      ],
      "metadata": {
        "id": "LT5a2qzat-4t"
      }
    },
    {
      "cell_type": "code",
      "source": [
        "bugs_total = bugs.sum()\n",
        "bugs_media = bugs.mean()\n",
        "\n",
        "print(\"Bugs Corrigidos (BC)\")\n",
        "print(\"Total de BC: \", bugs_total)\n",
        "print(\"Média de BC: \", bugs_media)"
      ],
      "metadata": {
        "colab": {
          "base_uri": "https://localhost:8080/"
        },
        "id": "zLfCTrvjuF8C",
        "outputId": "74ceee39-886d-4890-b4d3-fcfc6fd51c6c"
      },
      "execution_count": 103,
      "outputs": [
        {
          "output_type": "stream",
          "name": "stdout",
          "text": [
            "Bugs Corrigidos (BC)\n",
            "Total de BC:  16\n",
            "Média de BC:  2.2857142857142856\n"
          ]
        }
      ]
    },
    {
      "cell_type": "markdown",
      "source": [
        "### 3. **Tarefas Concluídas:**\n",
        "\n",
        "*  Total de tarefas concluídas;\n",
        "\n",
        "*  Média diária de tarefas concluídas.\n"
      ],
      "metadata": {
        "id": "rEbstKmTuint"
      }
    },
    {
      "cell_type": "code",
      "source": [
        "tasks_total = compl_tasks.sum()\n",
        "tasks_media = compl_tasks.mean()\n",
        "\n",
        "print(\"Tarefas Concluídas (TC)\")\n",
        "print(\"Total de TC: \", tasks_total)\n",
        "print(\"Média de TC: \", tasks_media)"
      ],
      "metadata": {
        "colab": {
          "base_uri": "https://localhost:8080/"
        },
        "id": "eFRaa7fwu0Lz",
        "outputId": "4abe4f7d-3bdd-45e4-b693-a1a269fe691a"
      },
      "execution_count": 104,
      "outputs": [
        {
          "output_type": "stream",
          "name": "stdout",
          "text": [
            "Tarefas Concluídas (TC)\n",
            "Total de TC:  29\n",
            "Média de TC:  4.142857142857143\n"
          ]
        }
      ]
    },
    {
      "cell_type": "markdown",
      "source": [
        "### 4. **Produtividade Diária:**\n",
        "\n",
        "*  Produtividade diária (Tarefas Concluídas por Hora):\n"
      ],
      "metadata": {
        "id": "Dmf57x3xvF1K"
      }
    },
    {
      "cell_type": "code",
      "source": [
        "prod_diaria = (compl_tasks/horas)*10\n",
        "print(prod_diaria)"
      ],
      "metadata": {
        "id": "GOcJe67DvEqq",
        "colab": {
          "base_uri": "https://localhost:8080/"
        },
        "outputId": "80d6612c-150a-46ad-d6b1-cf960a832550"
      },
      "execution_count": 105,
      "outputs": [
        {
          "output_type": "stream",
          "name": "stdout",
          "text": [
            "0    8.333333\n",
            "1    5.714286\n",
            "2    7.500000\n",
            "3    6.666667\n",
            "4    7.142857\n",
            "5    6.000000\n",
            "6    5.000000\n",
            "dtype: float64\n"
          ]
        }
      ]
    },
    {
      "cell_type": "markdown",
      "source": [
        "### Visualização geral"
      ],
      "metadata": {
        "id": "L0ZON8k6u0yy"
      }
    },
    {
      "cell_type": "markdown",
      "source": [
        "Armazenar o objeto Figure e um array de objetos Axes em fig e axs, respectivamente e criar uma matriz de subplots com 2 linhas e 2 colunas."
      ],
      "metadata": {
        "id": "rLu3LOdD8ne9"
      }
    },
    {
      "cell_type": "code",
      "source": [
        "fig, axs = plt.subplots(2, 2, figsize=(10, 7))\n",
        "\n",
        "# Gráfico de barras para Horas Trabalhadas\n",
        "axs[0, 0].bar(dias, horas)\n",
        "axs[0, 0].axhline(y=horas_media, color='red', linestyle='--', label='Média')\n",
        "axs[0, 0].set_title('Horas Trabalhadas por Dia')\n",
        "axs[0, 0].legend()\n",
        "axs[0, 0].set_xlabel('Dias')\n",
        "axs[0, 0].set_ylabel('Horas Trabalhadas')\n",
        "\n",
        "# Gráfico de barras para Bugs Corrigidos\n",
        "axs[0, 1].bar(dias, bugs)\n",
        "axs[0, 1].axhline(y=bugs_media, color='red', linestyle='--', label='Média')\n",
        "axs[0, 1].set_title('\"Bugs\" Corrigidos por Dia')\n",
        "axs[0, 1].legend()\n",
        "axs[0, 1].set_xlabel('Dias')\n",
        "axs[0, 1].set_ylabel('\"Bugs\" Corrigidos')\n",
        "\n",
        "# Gráfico de barras para Tarefas Concluídas\n",
        "axs[1, 0].bar(dias, compl_tasks)\n",
        "axs[1, 0].axhline(y=tasks_media, color='red', linestyle='--', label='Média')\n",
        "axs[1, 0].set_title('Tarefas Concluídas por Dia')\n",
        "axs[1, 0].legend()\n",
        "axs[1, 0].set_xlabel('Dias')\n",
        "axs[1, 0].set_ylabel('Tarefas Concluídas')\n",
        "\n",
        "# Gráfico de linha para Produtividade Diária\n",
        "axs[1, 1].plot(dias, compl_tasks / horas, marker='o', color='purple', label='Produtividade Diária')\n",
        "axs[1, 1].set_title('Produtividade Diária')\n",
        "axs[1, 1].set_xlabel('Dias')\n",
        "axs[1, 1].set_ylabel('Produtividade Diária')\n",
        "\n",
        "plt.tight_layout()\n",
        "plt.show()\n"
      ],
      "metadata": {
        "colab": {
          "base_uri": "https://localhost:8080/",
          "height": 707
        },
        "id": "m12ca0mdxPmy",
        "outputId": "641549d2-2912-42df-fcd3-949518059a42"
      },
      "execution_count": 122,
      "outputs": [
        {
          "output_type": "display_data",
          "data": {
            "text/plain": [
              "<Figure size 1000x700 with 4 Axes>"
            ],
            "image/png": "[encoded data removed]"
          },
          "metadata": {}
        }
      ]
    },
    {
      "cell_type": "markdown",
      "source": [
        "Ajustar automaticamente o layout dos subplots para evitar sobreposição de elementos e garantir uma aparência mais organizada e esteticamente agradável e exibir a figura completa na tela:\n",
        "\n",
        "```python\n",
        "plt.tight_layout()\n",
        "plt.show()\n"
      ],
      "metadata": {
        "id": "KLAON0eS8Vw9"
      }
    }
  ]
}