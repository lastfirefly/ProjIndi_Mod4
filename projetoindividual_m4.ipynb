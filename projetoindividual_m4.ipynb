{
  "nbformat": 4,
  "nbformat_minor": 0,
  "metadata": {
    "colab": {
      "provenance": [],
      "collapsed_sections": [
        "aVQEHSHd3bwI",
        "pLEERwpn7Rd8",
        "OUi9ak4X7JtE",
        "IALJiiN_7V50",
        "7g_xunBc24Yf"
      ],
      "toc_visible": true,
      "authorship_tag": "ABX9TyMerNYstBeJoffEZkf3kNnc",
      "include_colab_link": true
    },
    "kernelspec": {
      "name": "python3",
      "display_name": "Python 3"
    },
    "language_info": {
      "name": "python"
    }
  },
  "cells": [
    {
      "cell_type": "markdown",
      "metadata": {
        "id": "view-in-github",
        "colab_type": "text"
      },
      "source": [
        "<a href=\"https://colab.research.google.com/github/lastfirefly/ProjetoIndiv_Mod4/blob/backstage/projetoindividual_m4.ipynb\" target=\"_parent\"><img src=\"https://colab.research.google.com/assets/colab-badge.svg\" alt=\"Open In Colab\"/></a>"
      ]
    },
    {
      "cell_type": "markdown",
      "source": [
        "# Relatório de Progresso Diário\n"
      ],
      "metadata": {
        "id": "q51rsxmT5Yyj"
      }
    },
    {
      "cell_type": "markdown",
      "source": [
        "## Código"
      ],
      "metadata": {
        "id": "aVQEHSHd3bwI"
      }
    },
    {
      "cell_type": "markdown",
      "source": [
        "### Importar e ler csv"
      ],
      "metadata": {
        "id": "pLEERwpn7Rd8"
      }
    },
    {
      "cell_type": "code",
      "source": [
        "# Carregar arquivo usando files.upload()\n",
        "uploaded = files.upload()\n",
        "# Obter o nome do arquivo carregado\n",
        "nome_arquivo = next(iter(uploaded))\n",
        "\n",
        "df = pd.read_excel(nome_arquivo)\n"
      ],
      "metadata": {
        "id": "HidxFf1V7PcL",
        "colab": {
          "base_uri": "https://localhost:8080/",
          "height": 55
        },
        "outputId": "ee35ff3a-5a0a-483b-e0e3-4c5330a07811"
      },
      "execution_count": 7,
      "outputs": [
        {
          "output_type": "display_data",
          "data": {
            "text/plain": [
              "<IPython.core.display.HTML object>"
            ],
            "text/html": [
              "\n",
              "     <input type=\"file\" id=\"files-14c876d8-1d78-446f-aa03-838a5e606fa8\" name=\"files[]\" multiple disabled\n",
              "        style=\"border:none\" />\n",
              "     <output id=\"result-14c876d8-1d78-446f-aa03-838a5e606fa8\">\n",
              "      Upload widget is only available when the cell has been executed in the\n",
              "      current browser session. Please rerun this cell to enable.\n",
              "      </output>\n",
              "      <script>// Copyright 2017 Google LLC\n",
              "//\n",
              "// Licensed under the Apache License, Version 2.0 (the \"License\");\n",
              "// you may not use this file except in compliance with the License.\n",
              "// You may obtain a copy of the License at\n",
              "//\n",
              "//      http://www.apache.org/licenses/LICENSE-2.0\n",
              "//\n",
              "// Unless required by applicable law or agreed to in writing, software\n",
              "// distributed under the License is distributed on an \"AS IS\" BASIS,\n",
              "// WITHOUT WARRANTIES OR CONDITIONS OF ANY KIND, either express or implied.\n",
              "// See the License for the specific language governing permissions and\n",
              "// limitations under the License.\n",
              "\n",
              "/**\n",
              " * @fileoverview Helpers for google.colab Python module.\n",
              " */\n",
              "(function(scope) {\n",
              "function span(text, styleAttributes = {}) {\n",
              "  const element = document.createElement('span');\n",
              "  element.textContent = text;\n",
              "  for (const key of Object.keys(styleAttributes)) {\n",
              "    element.style[key] = styleAttributes[key];\n",
              "  }\n",
              "  return element;\n",
              "}\n",
              "\n",
              "// Max number of bytes which will be uploaded at a time.\n",
              "const MAX_PAYLOAD_SIZE = 100 * 1024;\n",
              "\n",
              "function _uploadFiles(inputId, outputId) {\n",
              "  const steps = uploadFilesStep(inputId, outputId);\n",
              "  const outputElement = document.getElementById(outputId);\n",
              "  // Cache steps on the outputElement to make it available for the next call\n",
              "  // to uploadFilesContinue from Python.\n",
              "  outputElement.steps = steps;\n",
              "\n",
              "  return _uploadFilesContinue(outputId);\n",
              "}\n",
              "\n",
              "// This is roughly an async generator (not supported in the browser yet),\n",
              "// where there are multiple asynchronous steps and the Python side is going\n",
              "// to poll for completion of each step.\n",
              "// This uses a Promise to block the python side on completion of each step,\n",
              "// then passes the result of the previous step as the input to the next step.\n",
              "function _uploadFilesContinue(outputId) {\n",
              "  const outputElement = document.getElementById(outputId);\n",
              "  const steps = outputElement.steps;\n",
              "\n",
              "  const next = steps.next(outputElement.lastPromiseValue);\n",
              "  return Promise.resolve(next.value.promise).then((value) => {\n",
              "    // Cache the last promise value to make it available to the next\n",
              "    // step of the generator.\n",
              "    outputElement.lastPromiseValue = value;\n",
              "    return next.value.response;\n",
              "  });\n",
              "}\n",
              "\n",
              "/**\n",
              " * Generator function which is called between each async step of the upload\n",
              " * process.\n",
              " * @param {string} inputId Element ID of the input file picker element.\n",
              " * @param {string} outputId Element ID of the output display.\n",
              " * @return {!Iterable<!Object>} Iterable of next steps.\n",
              " */\n",
              "function* uploadFilesStep(inputId, outputId) {\n",
              "  const inputElement = document.getElementById(inputId);\n",
              "  inputElement.disabled = false;\n",
              "\n",
              "  const outputElement = document.getElementById(outputId);\n",
              "  outputElement.innerHTML = '';\n",
              "\n",
              "  const pickedPromise = new Promise((resolve) => {\n",
              "    inputElement.addEventListener('change', (e) => {\n",
              "      resolve(e.target.files);\n",
              "    });\n",
              "  });\n",
              "\n",
              "  const cancel = document.createElement('button');\n",
              "  inputElement.parentElement.appendChild(cancel);\n",
              "  cancel.textContent = 'Cancel upload';\n",
              "  const cancelPromise = new Promise((resolve) => {\n",
              "    cancel.onclick = () => {\n",
              "      resolve(null);\n",
              "    };\n",
              "  });\n",
              "\n",
              "  // Wait for the user to pick the files.\n",
              "  const files = yield {\n",
              "    promise: Promise.race([pickedPromise, cancelPromise]),\n",
              "    response: {\n",
              "      action: 'starting',\n",
              "    }\n",
              "  };\n",
              "\n",
              "  cancel.remove();\n",
              "\n",
              "  // Disable the input element since further picks are not allowed.\n",
              "  inputElement.disabled = true;\n",
              "\n",
              "  if (!files) {\n",
              "    return {\n",
              "      response: {\n",
              "        action: 'complete',\n",
              "      }\n",
              "    };\n",
              "  }\n",
              "\n",
              "  for (const file of files) {\n",
              "    const li = document.createElement('li');\n",
              "    li.append(span(file.name, {fontWeight: 'bold'}));\n",
              "    li.append(span(\n",
              "        `(${file.type || 'n/a'}) - ${file.size} bytes, ` +\n",
              "        `last modified: ${\n",
              "            file.lastModifiedDate ? file.lastModifiedDate.toLocaleDateString() :\n",
              "                                    'n/a'} - `));\n",
              "    const percent = span('0% done');\n",
              "    li.appendChild(percent);\n",
              "\n",
              "    outputElement.appendChild(li);\n",
              "\n",
              "    const fileDataPromise = new Promise((resolve) => {\n",
              "      const reader = new FileReader();\n",
              "      reader.onload = (e) => {\n",
              "        resolve(e.target.result);\n",
              "      };\n",
              "      reader.readAsArrayBuffer(file);\n",
              "    });\n",
              "    // Wait for the data to be ready.\n",
              "    let fileData = yield {\n",
              "      promise: fileDataPromise,\n",
              "      response: {\n",
              "        action: 'continue',\n",
              "      }\n",
              "    };\n",
              "\n",
              "    // Use a chunked sending to avoid message size limits. See b/62115660.\n",
              "    let position = 0;\n",
              "    do {\n",
              "      const length = Math.min(fileData.byteLength - position, MAX_PAYLOAD_SIZE);\n",
              "      const chunk = new Uint8Array(fileData, position, length);\n",
              "      position += length;\n",
              "\n",
              "      const base64 = btoa(String.fromCharCode.apply(null, chunk));\n",
              "      yield {\n",
              "        response: {\n",
              "          action: 'append',\n",
              "          file: file.name,\n",
              "          data: base64,\n",
              "        },\n",
              "      };\n",
              "\n",
              "      let percentDone = fileData.byteLength === 0 ?\n",
              "          100 :\n",
              "          Math.round((position / fileData.byteLength) * 100);\n",
              "      percent.textContent = `${percentDone}% done`;\n",
              "\n",
              "    } while (position < fileData.byteLength);\n",
              "  }\n",
              "\n",
              "  // All done.\n",
              "  yield {\n",
              "    response: {\n",
              "      action: 'complete',\n",
              "    }\n",
              "  };\n",
              "}\n",
              "\n",
              "scope.google = scope.google || {};\n",
              "scope.google.colab = scope.google.colab || {};\n",
              "scope.google.colab._files = {\n",
              "  _uploadFiles,\n",
              "  _uploadFilesContinue,\n",
              "};\n",
              "})(self);\n",
              "</script> "
            ]
          },
          "metadata": {}
        },
        {
          "output_type": "stream",
          "name": "stdout",
          "text": [
            "Saving projetosolo_m4.xlsx to projetosolo_m4 (1).xlsx\n"
          ]
        }
      ]
    },
    {
      "cell_type": "markdown",
      "source": [
        "### Importar bibliotecas"
      ],
      "metadata": {
        "id": "OUi9ak4X7JtE"
      }
    },
    {
      "cell_type": "code",
      "source": [
        "from google.colab import files\n",
        "import pandas as pd\n",
        "from pandas import DataFrame as df\n",
        "import numpy as np\n",
        "import matplotlib.pyplot as plt\n"
      ],
      "metadata": {
        "id": "o-HroBjDOyst"
      },
      "execution_count": 6,
      "outputs": []
    },
    {
      "cell_type": "markdown",
      "source": [
        "### Definir as colunas e linhas a serem trabalhadas"
      ],
      "metadata": {
        "id": "IALJiiN_7V50"
      }
    },
    {
      "cell_type": "code",
      "source": [
        "dias = df[\"Dias\"]\n",
        "horas = df['Horas Trabalhadas']\n",
        "bugs = df['Bugs Corrigidos']\n",
        "compl_tasks = df['Tarefas Concluidas']"
      ],
      "metadata": {
        "id": "OOkaz5Tj7F4M"
      },
      "execution_count": 8,
      "outputs": []
    },
    {
      "cell_type": "markdown",
      "source": [
        "## Atividades Realizadas:\n"
      ],
      "metadata": {
        "id": "qeOdIlEt2LZt"
      }
    },
    {
      "cell_type": "markdown",
      "source": [
        "### 1. **Horas Trabalhadas:**\n",
        "  \n",
        "*  Total de horas trabalhadas;\n",
        "  \n",
        "*  Média diária de horas trabalhadas.\n"
      ],
      "metadata": {
        "id": "7g_xunBc24Yf"
      }
    },
    {
      "cell_type": "code",
      "source": [
        "horas_total = int(horas.sum())\n",
        "horas_media = horas.mean()\n",
        "\n",
        "print(\"Horas Trabalhadas (HT)\")\n",
        "print(\"Total de HT: \", horas_total)\n",
        "print(\"Média de HT: \", horas_media)"
      ],
      "metadata": {
        "colab": {
          "base_uri": "https://localhost:8080/"
        },
        "id": "uf3R4lFLq7HW",
        "outputId": "4191e7e0-30f6-4bf4-8118-797e3abef5cf"
      },
      "execution_count": 85,
      "outputs": [
        {
          "output_type": "stream",
          "name": "stdout",
          "text": [
            "Horas Trabalhadas (HT)\n",
            "Total de HT:  43\n",
            "Média de HT:  6.142857142857143\n"
          ]
        }
      ]
    },
    {
      "cell_type": "markdown",
      "source": [
        "### 2. **Bugs Corrigidos:**\n",
        "\n",
        "*  Total e média diária de bugs corrigidos;\n",
        "*  Visualização.\n",
        "\n"
      ],
      "metadata": {
        "id": "LT5a2qzat-4t"
      }
    },
    {
      "cell_type": "code",
      "source": [
        "bugs_total = bugs.sum()\n",
        "bugs_media = bugs.mean()\n",
        "\n",
        "print(\"Bugs Corrigidos (BC)\")\n",
        "print(\"Total de BC: \", bugs_total)\n",
        "print(\"Média de BC: \", bugs_media)"
      ],
      "metadata": {
        "colab": {
          "base_uri": "https://localhost:8080/"
        },
        "id": "zLfCTrvjuF8C",
        "outputId": "7ddf7ac2-3ab6-4d50-d41b-268db7fd7bd1"
      },
      "execution_count": 25,
      "outputs": [
        {
          "output_type": "stream",
          "name": "stdout",
          "text": [
            "Bugs Corrigidos (BC)\n",
            "Total de BC:  16\n",
            "Média de BC:  2.2857142857142856\n"
          ]
        }
      ]
    },
    {
      "cell_type": "markdown",
      "source": [
        "### 3. **Tarefas Concluídas:**\n",
        "\n",
        "*  Total de tarefas concluídas;\n",
        "\n",
        "*  Média diária de tarefas concluídas.\n"
      ],
      "metadata": {
        "id": "rEbstKmTuint"
      }
    },
    {
      "cell_type": "code",
      "source": [
        "tasks_total = compl_tasks.sum()\n",
        "tasks_media = compl_tasks.mean()\n",
        "\n",
        "print(\"Tarefas Concluídas (TC)\")\n",
        "print(\"Total de TC: \", tasks_total)\n",
        "print(\"Média de TC: \", tasks_media)"
      ],
      "metadata": {
        "colab": {
          "base_uri": "https://localhost:8080/"
        },
        "id": "eFRaa7fwu0Lz",
        "outputId": "ad4b0e50-c9e6-404a-de29-683a80f572d5"
      },
      "execution_count": 61,
      "outputs": [
        {
          "output_type": "stream",
          "name": "stdout",
          "text": [
            "Tarefas Concluídas (TC)\n",
            "Total de TC:  29\n",
            "Média de TC:  4.142857142857143\n"
          ]
        }
      ]
    },
    {
      "cell_type": "markdown",
      "source": [
        "### 4. **Produtividade Diária:**\n",
        "\n",
        "*  Produtividade diária (Tarefas Concluídas por Hora):\n"
      ],
      "metadata": {
        "id": "Dmf57x3xvF1K"
      }
    },
    {
      "cell_type": "code",
      "source": [
        "prod_diaria = (compl_tasks/horas)*10\n",
        "print(prod_diaria)"
      ],
      "metadata": {
        "id": "GOcJe67DvEqq",
        "colab": {
          "base_uri": "https://localhost:8080/"
        },
        "outputId": "7cd0c8f8-8dc9-475a-c76a-6e0d1d8b5070"
      },
      "execution_count": 88,
      "outputs": [
        {
          "output_type": "stream",
          "name": "stdout",
          "text": [
            "0    8.333333\n",
            "1    5.714286\n",
            "2    7.500000\n",
            "3    6.666667\n",
            "4    7.142857\n",
            "5    6.000000\n",
            "6    5.000000\n",
            "dtype: float64\n"
          ]
        }
      ]
    },
    {
      "cell_type": "markdown",
      "source": [
        "### Visualização geral"
      ],
      "metadata": {
        "id": "L0ZON8k6u0yy"
      }
    },
    {
      "cell_type": "markdown",
      "source": [
        "Armazenar o objeto Figure e um array de objetos Axes em fig e axs, respectivamente e criar uma matriz de subplots com 2 linhas e 2 colunas."
      ],
      "metadata": {
        "id": "rLu3LOdD8ne9"
      }
    },
    {
      "cell_type": "code",
      "source": [
        "fig, axs = plt.subplots(2, 2, figsize=(12, 8))"
      ],
      "metadata": {
        "id": "Ayh576Ew7u9q"
      },
      "execution_count": null,
      "outputs": []
    },
    {
      "cell_type": "markdown",
      "source": [
        "#### Gráfico de barras para Horas Trabalhadas"
      ],
      "metadata": {
        "id": "LyoMcL5n785v"
      }
    },
    {
      "cell_type": "code",
      "source": [
        "axs[0, 0].bar(dias, horas)\n",
        "axs[0, 0].axhline(y=horas_media, color='red', linestyle='--', label='Média Diária')\n",
        "axs[0, 0].set_title('Horas Trabalhadas por Dia')\n",
        "axs[0, 0].legend()\n",
        "axs[0, 0].set_xlabel('Dias')  # Adicionando legenda ao eixo x\n",
        "axs[0, 0].set_ylabel('Horas Trabalhadas')  # Adicionando legenda ao eixo y"
      ],
      "metadata": {
        "id": "m12ca0mdxPmy"
      },
      "execution_count": null,
      "outputs": []
    },
    {
      "cell_type": "markdown",
      "source": [
        "#### Gráfico de barras para Bugs Corrigidos"
      ],
      "metadata": {
        "id": "EROnptUn8FUV"
      }
    },
    {
      "cell_type": "code",
      "source": [
        "axs[0, 1].bar(dias, bugs)\n",
        "axs[0, 1].axhline(y=bugs_media, color='red', linestyle='--', label='Média Diária')\n",
        "axs[0, 1].set_title('Bugs Corrigidos por Dia')\n",
        "axs[0, 1].legend()\n",
        "axs[0, 1].set_xlabel('Dias')  # Adicionando legenda ao eixo x\n",
        "axs[0, 1].set_ylabel('Bugs Corrigidos')  # Adicionando legenda ao eixo y\n"
      ],
      "metadata": {
        "id": "tSKI2Kxu7f4h"
      },
      "execution_count": null,
      "outputs": []
    },
    {
      "cell_type": "markdown",
      "source": [
        "#### Gráfico de barras para Tarefas Concluídas"
      ],
      "metadata": {
        "id": "qZswUekZ8JRb"
      }
    },
    {
      "cell_type": "code",
      "source": [
        "axs[1, 0].bar(dias, compl_tasks)\n",
        "axs[1, 0].axhline(y=tasks_media, color='red', linestyle='--', label='Média Diária')\n",
        "axs[1, 0].set_title('Tarefas Concluídas por Dia')\n",
        "axs[1, 0].legend()\n",
        "axs[1, 0].set_xlabel('Dias')  # Adicionando legenda ao eixo x\n",
        "axs[1, 0].set_ylabel('Tarefas Concluídas')  # Adicionando legenda ao eixo y\n"
      ],
      "metadata": {
        "id": "Onx-pwEC7gq7"
      },
      "execution_count": null,
      "outputs": []
    },
    {
      "cell_type": "markdown",
      "source": [
        "#### Gráfico de linha para Produtividade Diária"
      ],
      "metadata": {
        "id": "M0ol7URM8Ldz"
      }
    },
    {
      "cell_type": "code",
      "source": [
        "axs[1, 1].plot(dias, compl_tasks / horas, marker='o', color='purple', label='Produtividade Diária')\n",
        "axs[1, 1].set_title('Produtividade Diária')\n",
        "axs[1, 1].set_xlabel('Dias')  # Adicionando legenda ao eixo x\n",
        "axs[1, 1].set_ylabel('Produtividade Diária')  # Adicionando legenda ao eixo y"
      ],
      "metadata": {
        "id": "zAnFrabg7lUv"
      },
      "execution_count": null,
      "outputs": []
    },
    {
      "cell_type": "markdown",
      "source": [
        "Ajustar automaticamente o layout dos subplots para evitar sobreposição de elementos e garantir uma aparência mais organizada e esteticamente agradável e exibir a figura completa na tela."
      ],
      "metadata": {
        "id": "KLAON0eS8Vw9"
      }
    },
    {
      "cell_type": "code",
      "source": [
        "plt.tight_layout()\n",
        "plt.show()\n"
      ],
      "metadata": {
        "id": "-dfePKhO7roL"
      },
      "execution_count": null,
      "outputs": []
    }
  ]
}